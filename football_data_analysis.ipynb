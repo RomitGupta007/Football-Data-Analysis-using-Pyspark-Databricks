{
 "cells": [
  {
   "cell_type": "markdown",
   "metadata": {
    "application/vnd.databricks.v1+cell": {
     "cellMetadata": {
      "byteLimit": 2048000,
      "rowLimit": 10000
     },
     "inputWidgets": {},
     "nuid": "9acb11eb-9539-49b5-83fb-905fce156cb6",
     "showTitle": false,
     "tableResultSettingsMap": {},
     "title": ""
    }
   },
   "source": [
    "# Enviroment setup"
   ]
  },
  {
   "cell_type": "markdown",
   "metadata": {
    "application/vnd.databricks.v1+cell": {
     "cellMetadata": {
      "byteLimit": 2048000,
      "rowLimit": 10000
     },
     "inputWidgets": {},
     "nuid": "347d0552-386d-4567-ac5c-7c1d5ac3820e",
     "showTitle": false,
     "tableResultSettingsMap": {},
     "title": ""
    }
   },
   "source": [
    "## Spark Session enviroment setup"
   ]
  },
  {
   "cell_type": "code",
   "execution_count": 1,
   "metadata": {
    "application/vnd.databricks.v1+cell": {
     "cellMetadata": {
      "byteLimit": 2048000,
      "rowLimit": 10000
     },
     "inputWidgets": {},
     "nuid": "112b20f9-2d2b-4978-a661-7db3cbda6e39",
     "showTitle": false,
     "tableResultSettingsMap": {},
     "title": ""
    }
   },
   "outputs": [],
   "source": [
    "from pyspark.sql import SparkSession\n",
    "\n",
    "# Initialize Spark session\n",
    "spark = SparkSession.builder.appName(\"Football_data_analysis\").getOrCreate()"
   ]
  },
  {
   "cell_type": "code",
   "execution_count": 2,
   "metadata": {
    "application/vnd.databricks.v1+cell": {
     "cellMetadata": {
      "byteLimit": 2048000,
      "rowLimit": 10000
     },
     "inputWidgets": {},
     "nuid": "25242a63-dd37-4c35-854a-39cc6ac84d23",
     "showTitle": false,
     "tableResultSettingsMap": {},
     "title": ""
    }
   },
   "outputs": [
    {
     "data": {
      "text/html": [
       "\n",
       "            <div>\n",
       "                <p><b>SparkSession - in-memory</b></p>\n",
       "                \n",
       "        <div>\n",
       "            <p><b>SparkContext</b></p>\n",
       "\n",
       "            <p><a href=\"http://LIN-BY3JW93.corp.capgemini.com:4040\">Spark UI</a></p>\n",
       "\n",
       "            <dl>\n",
       "              <dt>Version</dt>\n",
       "                <dd><code>v3.5.3</code></dd>\n",
       "              <dt>Master</dt>\n",
       "                <dd><code>local[*]</code></dd>\n",
       "              <dt>AppName</dt>\n",
       "                <dd><code>Football_data_analysis</code></dd>\n",
       "            </dl>\n",
       "        </div>\n",
       "        \n",
       "            </div>\n",
       "        "
      ],
      "text/plain": [
       "<pyspark.sql.session.SparkSession at 0x2086fdd7640>"
      ]
     },
     "execution_count": 2,
     "metadata": {},
     "output_type": "execute_result"
    }
   ],
   "source": [
    "spark"
   ]
  },
  {
   "cell_type": "markdown",
   "metadata": {
    "application/vnd.databricks.v1+cell": {
     "cellMetadata": {
      "byteLimit": 2048000,
      "rowLimit": 10000
     },
     "inputWidgets": {},
     "nuid": "1e775741-3149-4c9c-a4b8-20dcbc93cb88",
     "showTitle": false,
     "tableResultSettingsMap": {},
     "title": ""
    }
   },
   "source": [
    "## Loading and checking data"
   ]
  },
  {
   "cell_type": "code",
   "execution_count": null,
   "metadata": {
    "application/vnd.databricks.v1+cell": {
     "cellMetadata": {
      "byteLimit": 2048000,
      "rowLimit": 10000
     },
     "inputWidgets": {},
     "nuid": "42d5125a-4a50-41bf-af9e-967e9c48927c",
     "showTitle": false,
     "tableResultSettingsMap": {},
     "title": ""
    }
   },
   "outputs": [],
   "source": [
    "matches_df = spark.read.csv(\"s3://databricks-aws-spartans/football_data_analysis_spark_project/source_file/matches.csv\", header=True, inferSchema=True)\n",
    "players_df = spark.read.csv(\"s3://databricks-aws-spartans/football_data_analysis_spark_project/source_file/players.csv\", header=True, inferSchema=True)\n"
   ]
  },
  {
   "cell_type": "code",
   "execution_count": 4,
   "metadata": {
    "application/vnd.databricks.v1+cell": {
     "cellMetadata": {
      "byteLimit": 2048000,
      "rowLimit": 10000
     },
     "inputWidgets": {},
     "nuid": "7b5455f7-c912-40ec-81de-b8eef951d3f1",
     "showTitle": false,
     "tableResultSettingsMap": {},
     "title": ""
    }
   },
   "outputs": [],
   "source": [
    "# columns = date_dim_df.columns\n",
    "# print(\" | \".join(columns))"
   ]
  },
  {
   "cell_type": "code",
   "execution_count": 5,
   "metadata": {
    "application/vnd.databricks.v1+cell": {
     "cellMetadata": {
      "byteLimit": 2048000,
      "rowLimit": 10000
     },
     "inputWidgets": {},
     "nuid": "3a2ec20d-de20-4b5c-9583-68576a865c14",
     "showTitle": false,
     "tableResultSettingsMap": {},
     "title": ""
    }
   },
   "outputs": [
    {
     "name": "stdout",
     "output_type": "stream",
     "text": [
      "Year | Month | Match | Player Name | Club Name | country Name | Position | Jersey_No | D. O. B. | Nationality | appearances | goals scored | goals assist | total shots | shots on target | fouls made | fouls suffered | yellow card | red card | goals saved | goals conceded(stopped) | total penalty | successful penalty | salary\n"
     ]
    }
   ],
   "source": [
    "columns = players_df.columns\n",
    "print(\" | \".join(columns))"
   ]
  },
  {
   "cell_type": "code",
   "execution_count": 6,
   "metadata": {
    "application/vnd.databricks.v1+cell": {
     "cellMetadata": {
      "byteLimit": 2048000,
      "rowLimit": 10000
     },
     "inputWidgets": {},
     "nuid": "1b660aff-88a3-4fb3-8534-bd79159ee93b",
     "showTitle": false,
     "tableResultSettingsMap": {},
     "title": ""
    }
   },
   "outputs": [
    {
     "name": "stdout",
     "output_type": "stream",
     "text": [
      "Year | Match_Name | League_Name | Club_Name | Coach | Country Name | Manager | Owner | appearances | wins | losts | drawn | clean sheets | Net Worth\n"
     ]
    }
   ],
   "source": [
    "columns = matches_df.columns\n",
    "print(\" | \".join(columns))"
   ]
  },
  {
   "cell_type": "markdown",
   "metadata": {
    "application/vnd.databricks.v1+cell": {
     "cellMetadata": {
      "byteLimit": 2048000,
      "rowLimit": 10000
     },
     "inputWidgets": {},
     "nuid": "8577323f-1192-4b02-a9d6-ba8518ef4434",
     "showTitle": false,
     "tableResultSettingsMap": {},
     "title": ""
    }
   },
   "source": [
    "## Little cleaning of data columns names and coulumns data"
   ]
  },
  {
   "cell_type": "code",
   "execution_count": 7,
   "metadata": {
    "application/vnd.databricks.v1+cell": {
     "cellMetadata": {
      "byteLimit": 2048000,
      "rowLimit": 10000
     },
     "inputWidgets": {},
     "nuid": "160d128c-22e2-4ae8-8f6b-50fa3229b77b",
     "showTitle": false,
     "tableResultSettingsMap": {},
     "title": ""
    }
   },
   "outputs": [],
   "source": [
    "players_df = players_df.withColumnRenamed(\"D. O. B.\", \"DOB\")"
   ]
  },
  {
   "cell_type": "code",
   "execution_count": 8,
   "metadata": {
    "application/vnd.databricks.v1+cell": {
     "cellMetadata": {
      "byteLimit": 2048000,
      "rowLimit": 10000
     },
     "inputWidgets": {},
     "nuid": "91402697-edfd-4944-a13c-3822e6b6dfd0",
     "showTitle": false,
     "tableResultSettingsMap": {},
     "title": ""
    }
   },
   "outputs": [],
   "source": [
    "players_df = players_df.withColumnRenamed(\"goals conceded(stopped)\", \"goals conceded\")"
   ]
  },
  {
   "cell_type": "code",
   "execution_count": 9,
   "metadata": {
    "application/vnd.databricks.v1+cell": {
     "cellMetadata": {
      "byteLimit": 2048000,
      "rowLimit": 10000
     },
     "inputWidgets": {},
     "nuid": "c0b61461-142b-4f3b-a81e-29efbd84d102",
     "showTitle": false,
     "tableResultSettingsMap": {},
     "title": ""
    }
   },
   "outputs": [],
   "source": [
    "matches_df = matches_df.withColumnRenamed(\"Match_Name\", \"match\")"
   ]
  },
  {
   "cell_type": "code",
   "execution_count": 10,
   "metadata": {
    "application/vnd.databricks.v1+cell": {
     "cellMetadata": {
      "byteLimit": 2048000,
      "rowLimit": 10000
     },
     "inputWidgets": {},
     "nuid": "7384f08c-d0a0-4a4a-9dc5-68cc03e99e68",
     "showTitle": false,
     "tableResultSettingsMap": {},
     "title": ""
    }
   },
   "outputs": [
    {
     "name": "stdout",
     "output_type": "stream",
     "text": [
      "year | month | match | player name | club name | country name | position | jersey no | dob | nationality | appearances | goals scored | goals assist | total shots | shots on target | fouls made | fouls suffered | yellow card | red card | goals saved | goals conceded | total penalty | successful penalty | salary\n"
     ]
    }
   ],
   "source": [
    "# Get current column names\n",
    "current_columns = players_df.columns\n",
    "\n",
    "# Create a new list of column names with underscores replaced by spaces\n",
    "new_columns = [col_name.replace(\"_\", \" \").lower() for col_name in current_columns]\n",
    "\n",
    "# Rename columns in the DataFrame\n",
    "for old_name, new_name in zip(current_columns, new_columns):\n",
    "    players_df = players_df.withColumnRenamed(old_name, new_name)\n",
    "\n",
    "# Show the updated DataFrame\n",
    "columns = players_df.columns\n",
    "print(\" | \".join(columns))"
   ]
  },
  {
   "cell_type": "code",
   "execution_count": 11,
   "metadata": {
    "application/vnd.databricks.v1+cell": {
     "cellMetadata": {
      "byteLimit": 2048000,
      "rowLimit": 10000
     },
     "inputWidgets": {},
     "nuid": "4e181d1b-659c-4f38-b956-6764d8a38923",
     "showTitle": false,
     "tableResultSettingsMap": {},
     "title": ""
    }
   },
   "outputs": [
    {
     "name": "stdout",
     "output_type": "stream",
     "text": [
      "year | match | league name | club name | coach | country name | manager | owner | appearances | wins | losts | drawn | clean sheets | net worth\n"
     ]
    }
   ],
   "source": [
    "# Get current column names\n",
    "current_columns = matches_df.columns\n",
    "\n",
    "# Create a new list of column names with underscores replaced by spaces\n",
    "new_columns = [col_name.replace(\"_\", \" \").lower() for col_name in current_columns]\n",
    "\n",
    "# Rename columns in the DataFrame\n",
    "for old_name, new_name in zip(current_columns, new_columns):\n",
    "    matches_df = matches_df.withColumnRenamed(old_name, new_name)\n",
    "\n",
    "# Show the updated DataFrame\n",
    "columns = matches_df.columns\n",
    "print(\" | \".join(columns))"
   ]
  },
  {
   "cell_type": "code",
   "execution_count": 12,
   "metadata": {
    "application/vnd.databricks.v1+cell": {
     "cellMetadata": {
      "byteLimit": 2048000,
      "rowLimit": 10000
     },
     "inputWidgets": {},
     "nuid": "a8974907-b263-478c-8800-904be31c50b5",
     "showTitle": false,
     "tableResultSettingsMap": {},
     "title": ""
    }
   },
   "outputs": [],
   "source": [
    "from pyspark.sql.functions import when, col\n",
    "\n",
    "players_df = players_df.withColumn(\"club name\", when(col(\"club name\") == \"NA\", None).otherwise(col(\"club name\")))\n",
    "players_df = players_df.withColumn(\"country name\", when(col(\"country name\") == \"NA\", None).otherwise(col(\"country name\")))\n",
    "\n",
    "matches_df = matches_df.withColumn(\"league name\", when(col(\"league name\") == \"NA\", None).otherwise(col(\"league name\")))\n",
    "matches_df = matches_df.withColumn(\"club name\", when(col(\"club name\") == \"NA\", None).otherwise(col(\"club name\")))\n",
    "matches_df = matches_df.withColumn(\"coach\", when(col(\"coach\") == \"NA\", None).otherwise(col(\"coach\")))\n",
    "matches_df = matches_df.withColumn(\"country name\", when(col(\"country name\") == \"NA\", None).otherwise(col(\"country name\")))\n",
    "matches_df = matches_df.withColumn(\"manager\", when(col(\"manager\") == \"NA\", None).otherwise(col(\"manager\")))\n",
    "matches_df = matches_df.withColumn(\"owner\", when(col(\"owner\") == \"NA\", None).otherwise(col(\"manager\")))"
   ]
  },
  {
   "cell_type": "code",
   "execution_count": 13,
   "metadata": {
    "application/vnd.databricks.v1+cell": {
     "cellMetadata": {
      "byteLimit": 2048000,
      "rowLimit": 10000
     },
     "inputWidgets": {},
     "nuid": "88b042e3-d96b-4307-9310-54183d064688",
     "showTitle": false,
     "tableResultSettingsMap": {},
     "title": ""
    }
   },
   "outputs": [],
   "source": [
    "from pyspark.sql.functions import regexp_replace\n",
    "\n",
    "players_df = players_df \\\n",
    "    .withColumn(\"player name\", regexp_replace(\"player name\", \"Thiago Alc�ntara\", \"Thiago Alcantara\"))"
   ]
  },
  {
   "cell_type": "markdown",
   "metadata": {
    "application/vnd.databricks.v1+cell": {
     "cellMetadata": {
      "byteLimit": 2048000,
      "rowLimit": 10000
     },
     "inputWidgets": {},
     "nuid": "3761e13c-1ee2-4a41-95d0-ececb722963c",
     "showTitle": false,
     "tableResultSettingsMap": {},
     "title": ""
    }
   },
   "source": [
    "## Printing schema to undestand data"
   ]
  },
  {
   "cell_type": "code",
   "execution_count": 14,
   "metadata": {
    "application/vnd.databricks.v1+cell": {
     "cellMetadata": {
      "byteLimit": 2048000,
      "rowLimit": 10000
     },
     "inputWidgets": {},
     "nuid": "ffce71f9-e71e-4784-b780-5a44a0b3c93b",
     "showTitle": false,
     "tableResultSettingsMap": {},
     "title": ""
    }
   },
   "outputs": [
    {
     "name": "stdout",
     "output_type": "stream",
     "text": [
      "Schema for matches statistics:\n",
      "root\n",
      " |-- year: integer (nullable = true)\n",
      " |-- match: string (nullable = true)\n",
      " |-- league name: string (nullable = true)\n",
      " |-- club name: string (nullable = true)\n",
      " |-- coach: string (nullable = true)\n",
      " |-- country name: string (nullable = true)\n",
      " |-- manager: string (nullable = true)\n",
      " |-- owner: string (nullable = true)\n",
      " |-- appearances: integer (nullable = true)\n",
      " |-- wins: integer (nullable = true)\n",
      " |-- losts: integer (nullable = true)\n",
      " |-- drawn: integer (nullable = true)\n",
      " |-- clean sheets: integer (nullable = true)\n",
      " |-- net worth: string (nullable = true)\n",
      "\n"
     ]
    }
   ],
   "source": [
    "print(\"Schema for matches statistics:\")\n",
    "matches_df.printSchema()"
   ]
  },
  {
   "cell_type": "code",
   "execution_count": 15,
   "metadata": {
    "application/vnd.databricks.v1+cell": {
     "cellMetadata": {
      "byteLimit": 2048000,
      "rowLimit": 10000
     },
     "inputWidgets": {},
     "nuid": "c43441d7-7df2-4235-8142-e186d786e21d",
     "showTitle": false,
     "tableResultSettingsMap": {},
     "title": ""
    }
   },
   "outputs": [
    {
     "name": "stdout",
     "output_type": "stream",
     "text": [
      "Schema for player statistics:\n",
      "root\n",
      " |-- year: integer (nullable = true)\n",
      " |-- month: string (nullable = true)\n",
      " |-- match: string (nullable = true)\n",
      " |-- player name: string (nullable = true)\n",
      " |-- club name: string (nullable = true)\n",
      " |-- country name: string (nullable = true)\n",
      " |-- position: string (nullable = true)\n",
      " |-- jersey no: integer (nullable = true)\n",
      " |-- dob: string (nullable = true)\n",
      " |-- nationality: string (nullable = true)\n",
      " |-- appearances: integer (nullable = true)\n",
      " |-- goals scored: integer (nullable = true)\n",
      " |-- goals assist: integer (nullable = true)\n",
      " |-- total shots: integer (nullable = true)\n",
      " |-- shots on target: integer (nullable = true)\n",
      " |-- fouls made: integer (nullable = true)\n",
      " |-- fouls suffered: integer (nullable = true)\n",
      " |-- yellow card: integer (nullable = true)\n",
      " |-- red card: integer (nullable = true)\n",
      " |-- goals saved: integer (nullable = true)\n",
      " |-- goals conceded: integer (nullable = true)\n",
      " |-- total penalty: integer (nullable = true)\n",
      " |-- successful penalty: integer (nullable = true)\n",
      " |-- salary: string (nullable = true)\n",
      "\n"
     ]
    }
   ],
   "source": [
    "print(\"Schema for player statistics:\")\n",
    "players_df.printSchema()"
   ]
  },
  {
   "cell_type": "markdown",
   "metadata": {
    "application/vnd.databricks.v1+cell": {
     "cellMetadata": {
      "byteLimit": 2048000,
      "rowLimit": 10000
     },
     "inputWidgets": {},
     "nuid": "db988ca2-9541-4071-aa7a-8ae725768097",
     "showTitle": false,
     "tableResultSettingsMap": {},
     "title": ""
    }
   },
   "source": [
    "Changing datatype of dob from string to date"
   ]
  },
  {
   "cell_type": "code",
   "execution_count": 16,
   "metadata": {
    "application/vnd.databricks.v1+cell": {
     "cellMetadata": {
      "byteLimit": 2048000,
      "rowLimit": 10000
     },
     "inputWidgets": {},
     "nuid": "f182d438-4ff5-48c2-9af1-dbb15d832482",
     "showTitle": false,
     "tableResultSettingsMap": {},
     "title": ""
    }
   },
   "outputs": [],
   "source": [
    "players_df = players_df.withColumn(\"dob\", col(\"dob\").cast(\"date\"))"
   ]
  },
  {
   "cell_type": "code",
   "execution_count": 17,
   "metadata": {
    "application/vnd.databricks.v1+cell": {
     "cellMetadata": {
      "byteLimit": 2048000,
      "rowLimit": 10000
     },
     "inputWidgets": {},
     "nuid": "e456eb72-aaf3-45d8-95a1-53735cfc1ef1",
     "showTitle": false,
     "tableResultSettingsMap": {},
     "title": ""
    }
   },
   "outputs": [
    {
     "data": {
      "text/plain": [
       "1440"
      ]
     },
     "execution_count": 17,
     "metadata": {},
     "output_type": "execute_result"
    }
   ],
   "source": [
    "matches_df.count()"
   ]
  },
  {
   "cell_type": "code",
   "execution_count": 18,
   "metadata": {
    "application/vnd.databricks.v1+cell": {
     "cellMetadata": {
      "byteLimit": 2048000,
      "rowLimit": 10000
     },
     "inputWidgets": {},
     "nuid": "9951b4eb-fadf-4b8b-9fbc-d96a58061e87",
     "showTitle": false,
     "tableResultSettingsMap": {},
     "title": ""
    }
   },
   "outputs": [
    {
     "data": {
      "text/plain": [
       "10800"
      ]
     },
     "execution_count": 18,
     "metadata": {},
     "output_type": "execute_result"
    }
   ],
   "source": [
    "players_df.count()"
   ]
  },
  {
   "cell_type": "code",
   "execution_count": 19,
   "metadata": {
    "application/vnd.databricks.v1+cell": {
     "cellMetadata": {
      "byteLimit": 2048000,
      "rowLimit": 10000
     },
     "inputWidgets": {},
     "nuid": "77f7f833-9e4a-44f6-85ea-c914a2d1aca1",
     "showTitle": false,
     "tableResultSettingsMap": {},
     "title": ""
    }
   },
   "outputs": [
    {
     "data": {
      "text/plain": [
       "DataFrame[summary: string, year: string, month: string, match: string, player name: string, club name: string, country name: string, position: string, jersey no: string, nationality: string, appearances: string, goals scored: string, goals assist: string, total shots: string, shots on target: string, fouls made: string, fouls suffered: string, yellow card: string, red card: string, goals saved: string, goals conceded: string, total penalty: string, successful penalty: string, salary: string]"
      ]
     },
     "execution_count": 19,
     "metadata": {},
     "output_type": "execute_result"
    }
   ],
   "source": [
    "players_df.describe()"
   ]
  },
  {
   "cell_type": "code",
   "execution_count": 20,
   "metadata": {
    "application/vnd.databricks.v1+cell": {
     "cellMetadata": {
      "byteLimit": 2048000,
      "rowLimit": 10000
     },
     "inputWidgets": {},
     "nuid": "1687e9a3-7e59-44b1-bc15-b12ee9d283a3",
     "showTitle": false,
     "tableResultSettingsMap": {},
     "title": ""
    }
   },
   "outputs": [
    {
     "data": {
      "text/plain": [
       "DataFrame[summary: string, year: string, match: string, league name: string, club name: string, coach: string, country name: string, manager: string, owner: string, appearances: string, wins: string, losts: string, drawn: string, clean sheets: string, net worth: string]"
      ]
     },
     "execution_count": 20,
     "metadata": {},
     "output_type": "execute_result"
    }
   ],
   "source": [
    "matches_df.describe()"
   ]
  },
  {
   "cell_type": "markdown",
   "metadata": {
    "application/vnd.databricks.v1+cell": {
     "cellMetadata": {
      "byteLimit": 2048000,
      "rowLimit": 10000
     },
     "inputWidgets": {},
     "nuid": "089f5feb-aa0e-45aa-bb87-35a2b5bc7b92",
     "showTitle": false,
     "tableResultSettingsMap": {},
     "title": ""
    }
   },
   "source": [
    "## Creating Dimension Tables"
   ]
  },
  {
   "cell_type": "markdown",
   "metadata": {
    "application/vnd.databricks.v1+cell": {
     "cellMetadata": {
      "byteLimit": 2048000,
      "rowLimit": 10000
     },
     "inputWidgets": {},
     "nuid": "8863d801-7fc2-48ca-84a8-45b910be1d5a",
     "showTitle": false,
     "tableResultSettingsMap": {},
     "title": ""
    }
   },
   "source": [
    "### 1. Dim_players\n",
    "Dimension table of players"
   ]
  },
  {
   "cell_type": "code",
   "execution_count": 21,
   "metadata": {
    "application/vnd.databricks.v1+cell": {
     "cellMetadata": {
      "byteLimit": 2048000,
      "rowLimit": 10000
     },
     "inputWidgets": {},
     "nuid": "734b78c0-205e-47da-b645-0bb9f84aaf3a",
     "showTitle": false,
     "tableResultSettingsMap": {},
     "title": ""
    }
   },
   "outputs": [],
   "source": [
    "from pyspark.sql.functions import monotonically_increasing_id\n",
    "\n",
    "# dim_players = players_df.filter(players_df[\"player name\"] != None)\n",
    "\n",
    "dim_players = players_df.dropDuplicates([\"player name\"]).orderBy(\"player name\").select(\n",
    "    monotonically_increasing_id().alias(\"player id\"),\n",
    "    \"player name\",\n",
    "    \"dob\",\n",
    "    \"nationality\",\n",
    "    \"position\",\n",
    "    \"jersey no\",\n",
    ")"
   ]
  },
  {
   "cell_type": "code",
   "execution_count": 22,
   "metadata": {
    "application/vnd.databricks.v1+cell": {
     "cellMetadata": {
      "byteLimit": 2048000,
      "rowLimit": 10000
     },
     "inputWidgets": {},
     "nuid": "771a9c01-ecda-46d1-8f78-37eb5d9c46e1",
     "showTitle": false,
     "tableResultSettingsMap": {},
     "title": ""
    }
   },
   "outputs": [
    {
     "name": "stdout",
     "output_type": "stream",
     "text": [
      "+---------+--------------------+----+-----------+--------+---------+\n",
      "|player id|         player name| dob|nationality|position|jersey no|\n",
      "+---------+--------------------+----+-----------+--------+---------+\n",
      "|        0|              Adrian|NULL|Netherlands|      LW|       88|\n",
      "|        1|              Aguero|NULL|      Italy|       F|       51|\n",
      "|        2|           Alberto M|NULL|     Brasil|      LB|       74|\n",
      "|        3|Alessandro  Florenzi|NULL|   Portugal|      RW|       26|\n",
      "|        4|       Alessio Cerci|NULL|      Italy|       F|       84|\n",
      "|        5|    Alex Chamberlain|NULL|      Italy|      RW|       59|\n",
      "+---------+--------------------+----+-----------+--------+---------+\n",
      "only showing top 6 rows\n",
      "\n"
     ]
    }
   ],
   "source": [
    "dim_players.show(6, True)\n",
    "# dim_players.write.csv(r\"projectCSV/dim_players\", header=True)"
   ]
  },
  {
   "cell_type": "markdown",
   "metadata": {
    "application/vnd.databricks.v1+cell": {
     "cellMetadata": {
      "byteLimit": 2048000,
      "rowLimit": 10000
     },
     "inputWidgets": {},
     "nuid": "b670966c-1617-4bba-8a39-b90dd9e93e6b",
     "showTitle": false,
     "tableResultSettingsMap": {},
     "title": ""
    }
   },
   "source": [
    "### 2. Dim_clubs\n",
    "Dimension table of clubs"
   ]
  },
  {
   "cell_type": "code",
   "execution_count": 23,
   "metadata": {
    "application/vnd.databricks.v1+cell": {
     "cellMetadata": {
      "byteLimit": 2048000,
      "rowLimit": 10000
     },
     "inputWidgets": {},
     "nuid": "5f1196ed-c1ef-4e5f-9a26-0ea451766817",
     "showTitle": false,
     "tableResultSettingsMap": {},
     "title": ""
    }
   },
   "outputs": [],
   "source": [
    "# Drop the which has NA in it.\n",
    "# dim_clubs = players_df.filter(players_df[\"club name\"] != None)\n",
    "\n",
    "dim_clubs = players_df.dropDuplicates([\"club name\"]).orderBy(\"club name\").select(\n",
    "    monotonically_increasing_id().alias(\"club id\"),\n",
    "    \"club name\",\n",
    ")"
   ]
  },
  {
   "cell_type": "code",
   "execution_count": 24,
   "metadata": {
    "application/vnd.databricks.v1+cell": {
     "cellMetadata": {
      "byteLimit": 2048000,
      "rowLimit": 10000
     },
     "inputWidgets": {},
     "nuid": "9cada571-c6f2-4e97-ad2e-61ac6f11f31b",
     "showTitle": false,
     "tableResultSettingsMap": {},
     "title": ""
    }
   },
   "outputs": [
    {
     "name": "stdout",
     "output_type": "stream",
     "text": [
      "+-------+------------------+\n",
      "|club id|         club name|\n",
      "+-------+------------------+\n",
      "|      0|              NULL|\n",
      "|      1| Atheletico Madrid|\n",
      "|      2|           Arsenal|\n",
      "|      3|       Aston Villa|\n",
      "|      4| Atheletico Bilbao|\n",
      "|      5|         Barcelona|\n",
      "+-------+------------------+\n",
      "only showing top 6 rows\n",
      "\n"
     ]
    }
   ],
   "source": [
    "dim_clubs.show(6, True)\n",
    "# dim_clubs.write.csv(r\"projectCSV/dim_clubs\", header=True)"
   ]
  },
  {
   "cell_type": "markdown",
   "metadata": {
    "application/vnd.databricks.v1+cell": {
     "cellMetadata": {
      "byteLimit": 2048000,
      "rowLimit": 10000
     },
     "inputWidgets": {},
     "nuid": "7ae5c2d8-ddfb-4052-89d6-cb5f449e145f",
     "showTitle": false,
     "tableResultSettingsMap": {},
     "title": ""
    }
   },
   "source": [
    "### 3. Dim_matches\n",
    "Dimension table of matches"
   ]
  },
  {
   "cell_type": "code",
   "execution_count": 25,
   "metadata": {
    "application/vnd.databricks.v1+cell": {
     "cellMetadata": {
      "byteLimit": 2048000,
      "rowLimit": 10000
     },
     "inputWidgets": {},
     "nuid": "7611900c-575e-4cd4-b516-02ccb1123ac8",
     "showTitle": false,
     "tableResultSettingsMap": {},
     "title": ""
    }
   },
   "outputs": [],
   "source": [
    "# dim_matches = players_df.filter(players_df[\"match\"] != None)\n",
    "\n",
    "dim_matches = players_df.dropDuplicates([\"match\"]).orderBy(\"match\").select(\n",
    "    monotonically_increasing_id().alias(\"match id\"),\n",
    "    \"match\",\n",
    ")"
   ]
  },
  {
   "cell_type": "code",
   "execution_count": 26,
   "metadata": {
    "application/vnd.databricks.v1+cell": {
     "cellMetadata": {
      "byteLimit": 2048000,
      "rowLimit": 10000
     },
     "inputWidgets": {},
     "nuid": "3fed1e9b-1ef8-462b-9bc1-546dc126f745",
     "showTitle": false,
     "tableResultSettingsMap": {},
     "title": ""
    }
   },
   "outputs": [
    {
     "name": "stdout",
     "output_type": "stream",
     "text": [
      "+--------+-------------+\n",
      "|match id|        match|\n",
      "+--------+-------------+\n",
      "|       0|         Club|\n",
      "|       1|International|\n",
      "+--------+-------------+\n",
      "\n"
     ]
    }
   ],
   "source": [
    "dim_matches.show(6, True)\n",
    "# dim_matches.write.csv(r\"projectCSV/dim_matches\", header=True)"
   ]
  },
  {
   "cell_type": "markdown",
   "metadata": {
    "application/vnd.databricks.v1+cell": {
     "cellMetadata": {
      "byteLimit": 2048000,
      "rowLimit": 10000
     },
     "inputWidgets": {},
     "nuid": "b17bf91d-d218-41af-88d2-329fa5cd15e5",
     "showTitle": false,
     "tableResultSettingsMap": {},
     "title": ""
    }
   },
   "source": [
    "### 4. Dim_countries\n",
    "Dimension table of countries"
   ]
  },
  {
   "cell_type": "code",
   "execution_count": 27,
   "metadata": {
    "application/vnd.databricks.v1+cell": {
     "cellMetadata": {
      "byteLimit": 2048000,
      "rowLimit": 10000
     },
     "inputWidgets": {},
     "nuid": "f605b419-9c19-4c0b-b33a-56f7c1abf457",
     "showTitle": false,
     "tableResultSettingsMap": {},
     "title": ""
    }
   },
   "outputs": [],
   "source": [
    "# dim_countries = players_df.filter(players_df[\"country name\"] != None)\n",
    "\n",
    "dim_countries = players_df.dropDuplicates([\"country name\"]).orderBy(\"country name\").select(\n",
    "    monotonically_increasing_id().alias(\"country id\"),\n",
    "    \"country name\"\n",
    ")"
   ]
  },
  {
   "cell_type": "code",
   "execution_count": 28,
   "metadata": {
    "application/vnd.databricks.v1+cell": {
     "cellMetadata": {
      "byteLimit": 2048000,
      "rowLimit": 10000
     },
     "inputWidgets": {},
     "nuid": "56a88573-4852-4a66-b9dd-dcd13ab04cf6",
     "showTitle": false,
     "tableResultSettingsMap": {},
     "title": ""
    }
   },
   "outputs": [
    {
     "name": "stdout",
     "output_type": "stream",
     "text": [
      "+----------+------------+\n",
      "|country id|country name|\n",
      "+----------+------------+\n",
      "|         0|        NULL|\n",
      "|         1|   Argentina|\n",
      "|         2|     Belgium|\n",
      "|         3|      Brasil|\n",
      "|         4|     England|\n",
      "|         5|     Germany|\n",
      "+----------+------------+\n",
      "only showing top 6 rows\n",
      "\n"
     ]
    }
   ],
   "source": [
    "dim_countries.show(6, True)\n",
    "# dim_countries.write.csv(r\"projectCSV/dim_countries\", header=True)"
   ]
  },
  {
   "cell_type": "markdown",
   "metadata": {
    "application/vnd.databricks.v1+cell": {
     "cellMetadata": {
      "byteLimit": 2048000,
      "rowLimit": 10000
     },
     "inputWidgets": {},
     "nuid": "ae089d3d-78ff-45a0-afcc-31e54b22ef25",
     "showTitle": false,
     "tableResultSettingsMap": {},
     "title": ""
    }
   },
   "source": [
    "### 5. Dim_leagues\n",
    "Dimension table of leagues"
   ]
  },
  {
   "cell_type": "code",
   "execution_count": 29,
   "metadata": {
    "application/vnd.databricks.v1+cell": {
     "cellMetadata": {
      "byteLimit": 2048000,
      "rowLimit": 10000
     },
     "inputWidgets": {},
     "nuid": "2e6eb959-c26e-447a-a4b4-c95d5d14a472",
     "showTitle": false,
     "tableResultSettingsMap": {},
     "title": ""
    }
   },
   "outputs": [],
   "source": [
    "# dim_league = matches_df.filter(matches_df[\"league name\"] != None)\n",
    "\n",
    "dim_leagues = matches_df.dropDuplicates([\"league name\"]).orderBy(\"league name\").select(\n",
    "    monotonically_increasing_id().alias(\"league id\"),\n",
    "    \"league name\",\n",
    ")"
   ]
  },
  {
   "cell_type": "code",
   "execution_count": 30,
   "metadata": {
    "application/vnd.databricks.v1+cell": {
     "cellMetadata": {
      "byteLimit": 2048000,
      "rowLimit": 10000
     },
     "inputWidgets": {},
     "nuid": "bc39f5ca-fc1e-430c-a68c-8561950ab87a",
     "showTitle": false,
     "tableResultSettingsMap": {},
     "title": ""
    }
   },
   "outputs": [
    {
     "name": "stdout",
     "output_type": "stream",
     "text": [
      "+---------+-----------+\n",
      "|league id|league name|\n",
      "+---------+-----------+\n",
      "|        0|       NULL|\n",
      "|        1| Bundesliga|\n",
      "|        2|        EPL|\n",
      "|        3|    LA Liga|\n",
      "+---------+-----------+\n",
      "\n"
     ]
    }
   ],
   "source": [
    "dim_leagues.show(6, True)\n",
    "# dim_league.write.csv(r\"projectCSV/dim_league\", header=True)"
   ]
  },
  {
   "cell_type": "markdown",
   "metadata": {
    "application/vnd.databricks.v1+cell": {
     "cellMetadata": {
      "byteLimit": 2048000,
      "rowLimit": 10000
     },
     "inputWidgets": {},
     "nuid": "c9f57580-e0fc-4160-bf1a-f6477e1a2e5f",
     "showTitle": false,
     "tableResultSettingsMap": {},
     "title": ""
    }
   },
   "source": [
    "### 6. Dim_coaches\n",
    "Dimension table of coaches"
   ]
  },
  {
   "cell_type": "code",
   "execution_count": 31,
   "metadata": {
    "application/vnd.databricks.v1+cell": {
     "cellMetadata": {
      "byteLimit": 2048000,
      "rowLimit": 10000
     },
     "inputWidgets": {},
     "nuid": "839b2caf-0e59-4a66-b42f-b24272d0e789",
     "showTitle": false,
     "tableResultSettingsMap": {},
     "title": ""
    }
   },
   "outputs": [],
   "source": [
    "# dim_league = matches_df.filter(matches_df[\"coach\"] != None)\n",
    "\n",
    "dim_coaches = matches_df.dropDuplicates([\"coach\"]).orderBy(\"coach\").select(\n",
    "    monotonically_increasing_id().alias(\"coach id\"),\n",
    "    \"coach\",\n",
    ")"
   ]
  },
  {
   "cell_type": "code",
   "execution_count": 32,
   "metadata": {
    "application/vnd.databricks.v1+cell": {
     "cellMetadata": {
      "byteLimit": 2048000,
      "rowLimit": 10000
     },
     "inputWidgets": {},
     "nuid": "75e4a3aa-32ce-4253-afe4-6ea1aea07645",
     "showTitle": false,
     "tableResultSettingsMap": {},
     "title": ""
    }
   },
   "outputs": [
    {
     "name": "stdout",
     "output_type": "stream",
     "text": [
      "+--------+--------------+\n",
      "|coach id|         coach|\n",
      "+--------+--------------+\n",
      "|       0|          NULL|\n",
      "|       1|Barry Reynolds|\n",
      "|       2| Cody Delacruz|\n",
      "|       3|  Damon Pruitt|\n",
      "|       4|  Elmo Patrick|\n",
      "|       5|Kuame Gallegos|\n",
      "+--------+--------------+\n",
      "only showing top 6 rows\n",
      "\n"
     ]
    }
   ],
   "source": [
    "dim_coaches.show(6, True)\n",
    "# dim_coaches.write.csv(r\"projectCSV/dim_coaches\", header=True)"
   ]
  },
  {
   "cell_type": "markdown",
   "metadata": {
    "application/vnd.databricks.v1+cell": {
     "cellMetadata": {
      "byteLimit": 2048000,
      "rowLimit": 10000
     },
     "inputWidgets": {},
     "nuid": "5008d2a9-242a-425b-b53a-5d218528e511",
     "showTitle": false,
     "tableResultSettingsMap": {},
     "title": ""
    }
   },
   "source": [
    "### 7. Dim_managers\n",
    "Dimension table of managers"
   ]
  },
  {
   "cell_type": "code",
   "execution_count": 33,
   "metadata": {
    "application/vnd.databricks.v1+cell": {
     "cellMetadata": {
      "byteLimit": 2048000,
      "rowLimit": 10000
     },
     "inputWidgets": {},
     "nuid": "105f304b-6a6c-422f-915d-ea085d3be889",
     "showTitle": false,
     "tableResultSettingsMap": {},
     "title": ""
    }
   },
   "outputs": [],
   "source": [
    "# dim_league = matches_df.filter(matches_df[\"manager\"] != None)\n",
    "\n",
    "dim_managers = matches_df.dropDuplicates([\"manager\"]).orderBy(\"manager\").select(\n",
    "    monotonically_increasing_id().alias(\"manager id\"),\n",
    "    \"manager\"\n",
    ")"
   ]
  },
  {
   "cell_type": "code",
   "execution_count": 34,
   "metadata": {
    "application/vnd.databricks.v1+cell": {
     "cellMetadata": {
      "byteLimit": 2048000,
      "rowLimit": 10000
     },
     "inputWidgets": {},
     "nuid": "9fba52c9-9aa1-4daf-94b9-482b8f06242c",
     "showTitle": false,
     "tableResultSettingsMap": {},
     "title": ""
    }
   },
   "outputs": [
    {
     "name": "stdout",
     "output_type": "stream",
     "text": [
      "+----------+---------------+\n",
      "|manager id|        manager|\n",
      "+----------+---------------+\n",
      "|         0|           NULL|\n",
      "|         1|    Alvin Lucas|\n",
      "|         2|    Axel Farley|\n",
      "|         3|     Bruce Bray|\n",
      "|         4|Caesar Townsend|\n",
      "|         5|  Chava Rosales|\n",
      "+----------+---------------+\n",
      "only showing top 6 rows\n",
      "\n"
     ]
    }
   ],
   "source": [
    "dim_managers.show(6, True)\n",
    "# dim_managers.write.csv(r\"projectCSV/dim_managers\", header=True)"
   ]
  },
  {
   "cell_type": "markdown",
   "metadata": {
    "application/vnd.databricks.v1+cell": {
     "cellMetadata": {
      "byteLimit": 2048000,
      "rowLimit": 10000
     },
     "inputWidgets": {},
     "nuid": "5a06079f-cb62-4a6e-9f24-27166957e5cb",
     "showTitle": false,
     "tableResultSettingsMap": {},
     "title": ""
    }
   },
   "source": [
    "### 8. Dim_owners\n",
    "Dimension table of owners"
   ]
  },
  {
   "cell_type": "code",
   "execution_count": 35,
   "metadata": {
    "application/vnd.databricks.v1+cell": {
     "cellMetadata": {
      "byteLimit": 2048000,
      "rowLimit": 10000
     },
     "inputWidgets": {},
     "nuid": "88049b4f-05f2-4891-92bf-8b4a0ad0c3d0",
     "showTitle": false,
     "tableResultSettingsMap": {},
     "title": ""
    }
   },
   "outputs": [],
   "source": [
    "# dim_league = matches_df.filter(matches_df[\"owner\"] != None)\n",
    "\n",
    "dim_owners = matches_df.dropDuplicates([\"owner\"]).orderBy(\"owner\").select(\n",
    "    monotonically_increasing_id().alias(\"owner id\"),\n",
    "    \"owner\"\n",
    ")"
   ]
  },
  {
   "cell_type": "code",
   "execution_count": 36,
   "metadata": {
    "application/vnd.databricks.v1+cell": {
     "cellMetadata": {
      "byteLimit": 2048000,
      "rowLimit": 10000
     },
     "inputWidgets": {},
     "nuid": "190a99be-337d-473a-8c45-c9de040d9bb8",
     "showTitle": false,
     "tableResultSettingsMap": {},
     "title": ""
    }
   },
   "outputs": [
    {
     "name": "stdout",
     "output_type": "stream",
     "text": [
      "+--------+---------------+\n",
      "|owner id|          owner|\n",
      "+--------+---------------+\n",
      "|       0|           NULL|\n",
      "|       1|    Alvin Lucas|\n",
      "|       2|    Axel Farley|\n",
      "|       3|     Bruce Bray|\n",
      "|       4|Caesar Townsend|\n",
      "|       5|  Chava Rosales|\n",
      "+--------+---------------+\n",
      "only showing top 6 rows\n",
      "\n"
     ]
    }
   ],
   "source": [
    "dim_owners.show(6, True)\n",
    "# dim_owners.write.csv(r\"projectCSV/dim_owners\", header=True)"
   ]
  },
  {
   "cell_type": "markdown",
   "metadata": {
    "application/vnd.databricks.v1+cell": {
     "cellMetadata": {
      "byteLimit": 2048000,
      "rowLimit": 10000
     },
     "inputWidgets": {},
     "nuid": "e73d31c3-5973-4a3d-a057-a0a3b797d101",
     "showTitle": false,
     "tableResultSettingsMap": {},
     "title": ""
    }
   },
   "source": [
    "### 9. Dim_months\n",
    "Dimension table of months"
   ]
  },
  {
   "cell_type": "code",
   "execution_count": 37,
   "metadata": {
    "application/vnd.databricks.v1+cell": {
     "cellMetadata": {
      "byteLimit": 2048000,
      "rowLimit": 10000
     },
     "inputWidgets": {},
     "nuid": "fb26bdfb-4980-4c12-8820-bec6502dcbdb",
     "showTitle": false,
     "tableResultSettingsMap": {},
     "title": ""
    }
   },
   "outputs": [],
   "source": [
    "# dim_league = players_df.filter(players_df[\"month\"] != None)\n",
    "\n",
    "dim_months = players_df.dropDuplicates([\"month\"]).orderBy(\"month\").select(\n",
    "    monotonically_increasing_id().alias(\"month id\"),\n",
    "    \"month\"\n",
    ")"
   ]
  },
  {
   "cell_type": "code",
   "execution_count": 38,
   "metadata": {
    "application/vnd.databricks.v1+cell": {
     "cellMetadata": {
      "byteLimit": 2048000,
      "rowLimit": 10000
     },
     "inputWidgets": {},
     "nuid": "29c6b394-129b-4279-b9a0-0a561dae7f14",
     "showTitle": false,
     "tableResultSettingsMap": {},
     "title": ""
    }
   },
   "outputs": [
    {
     "name": "stdout",
     "output_type": "stream",
     "text": [
      "+--------+--------+\n",
      "|month id|   month|\n",
      "+--------+--------+\n",
      "|       0|   April|\n",
      "|       1|  August|\n",
      "|       2|December|\n",
      "|       3|February|\n",
      "|       4| January|\n",
      "|       5|    July|\n",
      "+--------+--------+\n",
      "only showing top 6 rows\n",
      "\n"
     ]
    }
   ],
   "source": [
    "dim_months.show(6, True)\n",
    "# dim_months.write.csv(r\"projectCSV/dim_months\", header=True)"
   ]
  },
  {
   "cell_type": "markdown",
   "metadata": {
    "application/vnd.databricks.v1+cell": {
     "cellMetadata": {
      "byteLimit": 2048000,
      "rowLimit": 10000
     },
     "inputWidgets": {},
     "nuid": "503c0c14-e834-4248-9059-541cdbd74d6f",
     "showTitle": false,
     "tableResultSettingsMap": {},
     "title": ""
    }
   },
   "source": [
    "### Players_peformance_fact\n",
    "Fact table of players"
   ]
  },
  {
   "cell_type": "code",
   "execution_count": 39,
   "metadata": {
    "application/vnd.databricks.v1+cell": {
     "cellMetadata": {
      "byteLimit": 2048000,
      "rowLimit": 10000
     },
     "inputWidgets": {},
     "nuid": "01906ba6-f284-4b3d-a74f-4338861321e5",
     "showTitle": false,
     "tableResultSettingsMap": {},
     "title": ""
    }
   },
   "outputs": [],
   "source": [
    "players_performance_fact = players_df.alias('p') \\\n",
    "    .join(dim_months.alias('m'), col('p.month') == col('m.month'), 'left') \\\n",
    "    .join(dim_matches.alias('match'), col('p.match') == col('match.match'), 'left') \\\n",
    "    .join(dim_players.alias('pl'), col('p.player name') == col('pl.player name'), 'left') \\\n",
    "    .join(dim_clubs.alias('c'), col('p.club name') == col('c.club name'), 'left') \\\n",
    "    .join(dim_countries.alias('co'), col('p.country name') == col('co.country name'), 'left') \\\n",
    "    .select(\n",
    "        (monotonically_increasing_id()+1001).alias(\"fact id\"),\n",
    "        col('p.year'),\n",
    "        col('month id'),\n",
    "        col('match id'),\n",
    "        col('player id'),\n",
    "        col('club id'),\n",
    "        col('country id'),\n",
    "        col('p.appearances'),\n",
    "        col('p.goals scored'),\n",
    "        col('p.goals assist'),\n",
    "        col('p.total shots'),\n",
    "        col('p.shots on target'),\n",
    "        col('p.fouls made'),\n",
    "        col('p.fouls suffered'),\n",
    "        col('p.yellow card'),\n",
    "        col('p.red card'),\n",
    "        col('p.goals saved'),\n",
    "        col('p.goals conceded'),\n",
    "        col('p.total penalty'),\n",
    "        col('p.successful penalty'),\n",
    "        col('p.salary')\n",
    "    )"
   ]
  },
  {
   "cell_type": "code",
   "execution_count": 40,
   "metadata": {
    "application/vnd.databricks.v1+cell": {
     "cellMetadata": {
      "byteLimit": 2048000,
      "rowLimit": 10000
     },
     "inputWidgets": {},
     "nuid": "ee753c94-acae-45f6-8686-384123d38804",
     "showTitle": false,
     "tableResultSettingsMap": {},
     "title": ""
    }
   },
   "outputs": [
    {
     "name": "stdout",
     "output_type": "stream",
     "text": [
      "+-------+----+--------+--------+---------+-------+----------+-----------+------------+------------+-----------+---------------+----------+--------------+-----------+--------+-----------+--------------+-------------+------------------+---------+\n",
      "|fact id|year|month id|match id|player id|club id|country id|appearances|goals scored|goals assist|total shots|shots on target|fouls made|fouls suffered|yellow card|red card|goals saved|goals conceded|total penalty|successful penalty|   salary|\n",
      "+-------+----+--------+--------+---------+-------+----------+-----------+------------+------------+-----------+---------------+----------+--------------+-----------+--------+-----------+--------------+-------------+------------------+---------+\n",
      "|   1001|2010|       4|       1|        0|   NULL|         8|          8|           8|           3|         67|             49|         8|             0|          0|       0|         29|            23|            2|                 1|$2,424.88|\n",
      "|   1002|2010|       3|       1|        0|   NULL|         8|          8|           7|           8|         77|             44|         3|             5|          4|       2|         19|            21|            0|                 0|$2,424.88|\n",
      "|   1003|2010|       7|       1|        0|   NULL|         8|          8|           7|           5|         59|             45|        11|             7|          1|       1|         26|            15|            0|                 0|$2,424.88|\n",
      "|   1004|2010|       0|       1|        0|   NULL|         8|          8|          10|           8|         71|             50|         7|             0|          1|       2|         18|            30|            3|                 3|$2,424.88|\n",
      "|   1005|2010|       8|       1|        0|   NULL|         8|          8|          10|           3|         80|             45|        12|             2|          0|       1|         25|            25|            5|                 3|$2,424.88|\n",
      "+-------+----+--------+--------+---------+-------+----------+-----------+------------+------------+-----------+---------------+----------+--------------+-----------+--------+-----------+--------------+-------------+------------------+---------+\n",
      "only showing top 5 rows\n",
      "\n"
     ]
    }
   ],
   "source": [
    "players_performance_fact.show(5, True)\n",
    "# players_performance_fact.write.csv(r\"projectCSV/players_performance_fact\", header=True)"
   ]
  },
  {
   "cell_type": "markdown",
   "metadata": {
    "application/vnd.databricks.v1+cell": {
     "cellMetadata": {
      "byteLimit": 2048000,
      "rowLimit": 10000
     },
     "inputWidgets": {},
     "nuid": "888a093d-afd1-427c-ab0b-b4f2b3264777",
     "showTitle": false,
     "tableResultSettingsMap": {},
     "title": ""
    }
   },
   "source": [
    "### Match_performance_fact\n",
    "Fact table of matches"
   ]
  },
  {
   "cell_type": "code",
   "execution_count": 41,
   "metadata": {
    "application/vnd.databricks.v1+cell": {
     "cellMetadata": {
      "byteLimit": 2048000,
      "rowLimit": 10000
     },
     "inputWidgets": {},
     "nuid": "befb019f-323e-47aa-9391-5f3c31399bde",
     "showTitle": false,
     "tableResultSettingsMap": {},
     "title": ""
    }
   },
   "outputs": [],
   "source": [
    "match_performance_fact = matches_df.alias('mt') \\\n",
    "    .join(dim_matches.alias('dm'), col('mt.match') == col('dm.match'), 'left') \\\n",
    "    .join(dim_leagues.alias('lea'), col('mt.league name') == col('lea.league name'), 'left') \\\n",
    "    .join(dim_clubs.alias('cl'), col('mt.club name') == col('cl.club name'), 'left') \\\n",
    "    .join(dim_coaches.alias('coach'), col('mt.coach') == col('coach.coach'), 'left') \\\n",
    "    .join(dim_countries.alias('coun'), col('mt.country name') == col('coun.country name'), 'left') \\\n",
    "    .join(dim_managers.alias('mana'), col('mt.manager') == col('mana.manager'), 'left') \\\n",
    "    .join(dim_owners.alias('o'), col('mt.owner') == col('o.owner'), 'left') \\\n",
    "    .select(\n",
    "        (monotonically_increasing_id()+1001).alias(\"fact id\"),\n",
    "        col('mt.year'),\n",
    "        col('match id'),\n",
    "        col('league id'),\n",
    "        col('club id'),\n",
    "        col('coach id'),\n",
    "        col('country id'),\n",
    "        col('manager id'),\n",
    "        col('owner id'),\n",
    "        col('mt.appearances'),\n",
    "        col('mt.wins'),\n",
    "        col('mt.losts'),\n",
    "        col('mt.drawn'),\n",
    "        col('mt.clean sheets'),\n",
    "        col('mt.net worth')\n",
    "    )"
   ]
  },
  {
   "cell_type": "code",
   "execution_count": 42,
   "metadata": {
    "application/vnd.databricks.v1+cell": {
     "cellMetadata": {
      "byteLimit": 2048000,
      "rowLimit": 10000
     },
     "inputWidgets": {},
     "nuid": "a017ef87-0891-4f23-ac98-fdede20a429b",
     "showTitle": false,
     "tableResultSettingsMap": {},
     "title": ""
    }
   },
   "outputs": [
    {
     "name": "stdout",
     "output_type": "stream",
     "text": [
      "+-------+----+--------+---------+-------+--------+----------+----------+--------+-----------+----+-----+-----+------------+---------+\n",
      "|fact id|year|match id|league id|club id|coach id|country id|manager id|owner id|appearances|wins|losts|drawn|clean sheets|net worth|\n",
      "+-------+----+--------+---------+-------+--------+----------+----------+--------+-----------+----+-----+-----+------------+---------+\n",
      "|   1001|2010|       0|        3|      1|    NULL|      NULL|         1|       1|          8|   7|    0|    1|           5|$745,634 |\n",
      "|   1002|2010|       0|        3|      1|    NULL|      NULL|         1|       1|          8|   2|    1|    5|           1|$745,634 |\n",
      "|   1003|2010|       0|        3|      1|    NULL|      NULL|         1|       1|          8|   6|    1|    1|           3|$745,634 |\n",
      "|   1004|2010|       0|        3|      1|    NULL|      NULL|         1|       1|          8|   6|    1|    1|           4|$745,634 |\n",
      "|   1005|2010|       0|        3|      1|    NULL|      NULL|         1|       1|          8|   4|    3|    1|           3|$745,634 |\n",
      "+-------+----+--------+---------+-------+--------+----------+----------+--------+-----------+----+-----+-----+------------+---------+\n",
      "only showing top 5 rows\n",
      "\n"
     ]
    }
   ],
   "source": [
    "match_performance_fact.show(5, True)\n",
    "# match_performance_fact.write.csv(r\"projectCSV/match_performance_fact\", header=True)"
   ]
  },
  {
   "cell_type": "code",
   "execution_count": 43,
   "metadata": {
    "application/vnd.databricks.v1+cell": {
     "cellMetadata": {
      "byteLimit": 2048000,
      "rowLimit": 10000
     },
     "inputWidgets": {},
     "nuid": "c141aa09-6e0a-49f9-a19e-6d2493fe5946",
     "showTitle": false,
     "tableResultSettingsMap": {},
     "title": ""
    }
   },
   "outputs": [],
   "source": [
    "import matplotlib.pyplot as plt\n",
    "import pandas as pd\n",
    "import numpy as np"
   ]
  },
  {
   "cell_type": "markdown",
   "metadata": {
    "application/vnd.databricks.v1+cell": {
     "cellMetadata": {
      "byteLimit": 2048000,
      "rowLimit": 10000
     },
     "inputWidgets": {},
     "nuid": "9644c023-71aa-44d0-bf67-0c161739c032",
     "showTitle": false,
     "tableResultSettingsMap": {},
     "title": ""
    }
   },
   "source": [
    "## Club report of Total Wins , Total Appearances ,Total Losses ,Total Draws\n",
    "### League and Competition Insights\n",
    "Clubs can compare their performance against league averages or top performers, providing insights into areas for improvement.\n",
    "Trend Analysis: Longitudinal analysis of match results and player performances over time can reveal trends that influence future strategies.\n",
    "### Ownership and Sponsorship\n",
    "The top companies can fund or sponsor on the clubs based on their performance"
   ]
  },
  {
   "cell_type": "code",
   "execution_count": 44,
   "metadata": {
    "application/vnd.databricks.v1+cell": {
     "cellMetadata": {
      "byteLimit": 2048000,
      "rowLimit": 10000
     },
     "inputWidgets": {},
     "nuid": "52870eae-d10d-4a9e-a869-5d2e22a7a66b",
     "showTitle": false,
     "tableResultSettingsMap": {},
     "title": ""
    }
   },
   "outputs": [
    {
     "name": "stdout",
     "output_type": "stream",
     "text": [
      "+------------------+----------+-----------------+------------+-----------+\n",
      "|         club name|Total Wins|Total Appearances|Total Losses|Total Draws|\n",
      "+------------------+----------+-----------------+------------+-----------+\n",
      "| Atheletico Madrid|       148|              288|          64|         76|\n",
      "|           Arsenal|       124|              288|          77|         87|\n",
      "|       Aston Villa|       139|              288|          79|         70|\n",
      "| Atheletico Bilbao|       114|              288|         103|         73|\n",
      "|         Barcelona|       123|              288|         101|         64|\n",
      "+------------------+----------+-----------------+------------+-----------+\n",
      "\n"
     ]
    }
   ],
   "source": [
    "# Join the fact table with the dimension table\n",
    "joined_df = match_performance_fact \\\n",
    "    .join(dim_clubs, match_performance_fact[\"club id\"] == dim_clubs[\"club id\"], \"left\")\n",
    "\n",
    "joined_df = joined_df.filter(joined_df[\"club name\"].isNotNull())\n",
    "\n",
    "# Group by Club Name and aggregate performance metrics\n",
    "team_performance = joined_df.groupBy(\"club name\") \\\n",
    "    .agg({\n",
    "        \"wins\": \"sum\",\n",
    "        \"losts\": \"sum\",\n",
    "        \"drawn\": \"sum\",\n",
    "        \"appearances\": \"sum\"\n",
    "    }) \\\n",
    "    .withColumnRenamed(\"sum(wins)\", \"Total Wins\") \\\n",
    "    .withColumnRenamed(\"sum(losts)\", \"Total Losses\") \\\n",
    "    .withColumnRenamed(\"sum(drawn)\", \"Total Draws\") \\\n",
    "    .withColumnRenamed(\"sum(appearances)\", \"Total Appearances\")\n",
    "\n",
    "# Show the results\n",
    "# team_performance.show(5, True)\n",
    "team_performance.limit(5).show()\n",
    "# team_performance.write.csv(\"s3://databricks-aws-spartans/football_data_analysis_spark_project/reports/club_reports.csv\")"
   ]
  },
  {
   "cell_type": "markdown",
   "metadata": {
    "application/vnd.databricks.v1+cell": {
     "cellMetadata": {
      "byteLimit": 2048000,
      "rowLimit": 10000
     },
     "inputWidgets": {},
     "nuid": "eb625822-a3ec-47d9-a0d1-12c7ebf97aff",
     "showTitle": false,
     "tableResultSettingsMap": {},
     "title": ""
    }
   },
   "source": [
    "## Player performance analysis\n",
    "### Identify Top Players by Goals and Assists(Helpful for football clubs)\n",
    "By examining player statistics (goals scored, assists, fouls), clubs can identify top-performing players and make informed decisions regarding contracts, buying or selling, player development.\n",
    "### Populating Sports websites \n",
    "Sports websites can populate these datas in their platform to enhance the quality of football datas to the end users."
   ]
  },
  {
   "cell_type": "code",
   "execution_count": 45,
   "metadata": {
    "application/vnd.databricks.v1+cell": {
     "cellMetadata": {
      "byteLimit": 2048000,
      "rowLimit": 10000
     },
     "inputWidgets": {},
     "nuid": "ed8e4355-8379-4325-85c8-9df7b521bd99",
     "showTitle": false,
     "tableResultSettingsMap": {},
     "title": ""
    }
   },
   "outputs": [],
   "source": [
    "# Join the fact table with the dimension table\n",
    "joined_df = players_performance_fact \\\n",
    "    .join(dim_players, players_performance_fact[\"player id\"] == dim_players[\"player id\"], \"inner\")\n",
    "\n",
    "joined_df = joined_df.filter(joined_df[\"player name\"].isNotNull())\n",
    "\n",
    "# Group by Club Name and aggregate performance metrics\n",
    "top_players = joined_df.groupBy(\"player name\") \\\n",
    "    .agg({\n",
    "        \"goals scored\": \"sum\",\n",
    "        \"goals assist\": \"sum\",\n",
    "        \"appearances\": \"sum\",\n",
    "        \"total shots\": \"sum\",\n",
    "        \"shots on target\": \"sum\",\n",
    "        \"goals saved\": \"sum\",\n",
    "        \"total penalty\": \"sum\",\n",
    "        \"successful penalty\": \"sum\"\n",
    "    }) \\\n",
    "    .withColumnRenamed(\"sum(goals scored)\", \"Total Goals\") \\\n",
    "    .withColumnRenamed(\"sum(goals assist)\", \"Total Assists\") \\\n",
    "    .withColumnRenamed(\"sum(appearances)\", \"Total Appearances\") \\\n",
    "    .withColumnRenamed(\"sum(total shots)\", \"Total Shots\") \\\n",
    "    .withColumnRenamed(\"sum(shots on target)\", \"Shots On Target\") \\\n",
    "    .withColumnRenamed(\"sum(goals saved)\", \"Goals Saved\") \\\n",
    "    .withColumnRenamed(\"sum(total penalty)\", \"Total Penalty\") \\\n",
    "    .withColumnRenamed(\"sum(successful penalty)\", \"Successful Penalty\") \\\n",
    "    .orderBy(\"Total Goals\", ascending=False)"
   ]
  },
  {
   "cell_type": "code",
   "execution_count": 46,
   "metadata": {
    "application/vnd.databricks.v1+cell": {
     "cellMetadata": {
      "byteLimit": 2048000,
      "rowLimit": 10000
     },
     "inputWidgets": {},
     "nuid": "6f046a16-3ba7-492b-99e9-8099a8916258",
     "showTitle": false,
     "tableResultSettingsMap": {},
     "title": ""
    }
   },
   "outputs": [
    {
     "name": "stdout",
     "output_type": "stream",
     "text": [
      "+--------------+---------------+-----------------+-----------+-------------+-----------+------------------+-----------+-------------+\n",
      "|   player name|Shots On Target|Total Appearances|Total Goals|Total Penalty|Total Shots|Successful Penalty|Goals Saved|Total Assists|\n",
      "+--------------+---------------+-----------------+-----------+-------------+-----------+------------------+-----------+-------------+\n",
      "|       Gabriel|           2880|              576|        483|          325|       4566|               210|       1404|          338|\n",
      "|   Eden Hazard|           2859|              576|        473|          337|       4682|               205|       1439|          304|\n",
      "|Tallulah Leach|           2974|              576|        471|          341|       4870|               211|       1440|          318|\n",
      "|     Hernandez|           2861|              576|        468|          318|       4616|               204|       1501|          357|\n",
      "| Iker Casillas|           2916|              576|        465|          305|       4734|               195|       1577|          334|\n",
      "|         Pedro|           2856|              576|        463|          324|       4650|               204|       1513|          314|\n",
      "|  David De Gea|           2846|              576|        461|          314|       4778|               175|       1469|          345|\n",
      "|   Mertesacker|           2904|              576|        461|          317|       4685|               181|       1398|          356|\n",
      "|      Tim Krul|           2988|              576|        460|          324|       4572|               200|       1431|          336|\n",
      "|          Hugo|           2789|              576|        460|          350|       4610|               219|       1428|          309|\n",
      "+--------------+---------------+-----------------+-----------+-------------+-----------+------------------+-----------+-------------+\n",
      "\n"
     ]
    }
   ],
   "source": [
    "# top_players.show(5, True)\n",
    "top_players.limit(10).show()\n",
    "# top_players.write.csv(\"s3://databricks-aws-spartans/football_data_analysis_spark_project/reports/player_reports.csv\")"
   ]
  },
  {
   "cell_type": "code",
   "execution_count": 47,
   "metadata": {
    "application/vnd.databricks.v1+cell": {
     "cellMetadata": {
      "byteLimit": 2048000,
      "rowLimit": 10000
     },
     "inputWidgets": {},
     "nuid": "e6451733-fa4b-4ea8-a981-d40791c5fe59",
     "showTitle": false,
     "tableResultSettingsMap": {},
     "title": ""
    }
   },
   "outputs": [
    {
     "name": "stdout",
     "output_type": "stream",
     "text": [
      "+-----------+---------------+-----------------+-----------+-------------+-----------+------------------+-----------+-------------+\n",
      "|player name|Shots On Target|Total Appearances|Total Goals|Total Penalty|Total Shots|Successful Penalty|Goals Saved|Total Assists|\n",
      "+-----------+---------------+-----------------+-----------+-------------+-----------+------------------+-----------+-------------+\n",
      "|Eden Hazard|           2859|              576|        473|          337|       4682|               205|       1439|          304|\n",
      "+-----------+---------------+-----------------+-----------+-------------+-----------+------------------+-----------+-------------+\n",
      "\n"
     ]
    }
   ],
   "source": [
    "top_players.filter(top_players[\"player name\"] == \"Eden Hazard\").show()"
   ]
  },
  {
   "cell_type": "markdown",
   "metadata": {
    "application/vnd.databricks.v1+cell": {
     "cellMetadata": {
      "byteLimit": 2048000,
      "rowLimit": 10000
     },
     "inputWidgets": {},
     "nuid": "8afc3bfa-ebea-4bfb-97e9-ab33ee73780c",
     "showTitle": false,
     "tableResultSettingsMap": {},
     "title": ""
    }
   },
   "source": [
    "## Player Injury & Suspension Analysis\n",
    "### Helpful for club\n",
    "By tracking fouls committed, yellow/red cards (for goalkeepers), clubs can better understand a player's tendency for  suspensions. This information is vital for managing player health, avoiding suspensions, and understanding risks. The clubs can also avoid to extend contract with those player who have highest tendency to get a card.\n",
    "### Helpful for sports website\n",
    "They can populate these datas also in their website"
   ]
  },
  {
   "cell_type": "code",
   "execution_count": 48,
   "metadata": {
    "application/vnd.databricks.v1+cell": {
     "cellMetadata": {
      "byteLimit": 2048000,
      "rowLimit": 10000
     },
     "inputWidgets": {},
     "nuid": "5c580aa8-70b3-458a-8d44-cf2adf92a424",
     "showTitle": false,
     "tableResultSettingsMap": {},
     "title": ""
    }
   },
   "outputs": [],
   "source": [
    "from pyspark.sql.types import IntegerType\n",
    "from pyspark.sql import functions as F"
   ]
  },
  {
   "cell_type": "code",
   "execution_count": 49,
   "metadata": {
    "application/vnd.databricks.v1+cell": {
     "cellMetadata": {
      "byteLimit": 2048000,
      "rowLimit": 10000
     },
     "inputWidgets": {},
     "nuid": "74d2460a-3b43-4a6b-9d24-7752ef11d5b9",
     "showTitle": false,
     "tableResultSettingsMap": {},
     "title": ""
    }
   },
   "outputs": [],
   "source": [
    "# Join the fact table with the dimension table\n",
    "joined_df = players_performance_fact \\\n",
    "    .join(dim_players, players_performance_fact[\"player id\"] == dim_players[\"player id\"], \"inner\")\n",
    "\n",
    "joined_df = joined_df.filter(joined_df[\"player name\"].isNotNull())\n",
    "\n",
    "# Ensure that the columns are cast to integer type before performing the sum operation\n",
    "disciplinary_df = joined_df.groupBy(\"player name\") \\\n",
    ".agg(\n",
    "    F.sum(col(\"yellow card\").cast(IntegerType())).alias(\"total yellow cards\"),\n",
    "    F.sum(col(\"red card\").cast(IntegerType())).alias(\"total red cards\"),\n",
    "    F.sum(col(\"fouls made\").cast(IntegerType())).alias(\"total fouls made\")\n",
    ")\n",
    "\n",
    "# Order by total_fouls_made in descending order\n",
    "ordered_disciplinary_df = disciplinary_df.orderBy(F.col(\"total fouls made\").desc())"
   ]
  },
  {
   "cell_type": "code",
   "execution_count": 50,
   "metadata": {
    "application/vnd.databricks.v1+cell": {
     "cellMetadata": {
      "byteLimit": 2048000,
      "rowLimit": 10000
     },
     "inputWidgets": {},
     "nuid": "1a3c77c0-5ee4-4f81-b32b-7d6ea9c34383",
     "showTitle": false,
     "tableResultSettingsMap": {},
     "title": ""
    }
   },
   "outputs": [
    {
     "name": "stdout",
     "output_type": "stream",
     "text": [
      "+-----------------+------------------+---------------+----------------+\n",
      "|      player name|total yellow cards|total red cards|total fouls made|\n",
      "+-----------------+------------------+---------------+----------------+\n",
      "|   Noah Whitfield|               142|             73|             479|\n",
      "|         Fletcher|               157|             83|             474|\n",
      "|             Hulk|               122|             85|             471|\n",
      "|   Phelan Sampson|               138|             75|             466|\n",
      "|      David Villa|               158|             79|             462|\n",
      "|      Juan Manuel|               141|             65|             462|\n",
      "|     Patrice Evra|               143|             68|             459|\n",
      "|            Giggs|               146|             70|             457|\n",
      "|     Philipp Lahm|               157|             60|             456|\n",
      "|Javier Mascherano|               137|             68|             455|\n",
      "+-----------------+------------------+---------------+----------------+\n",
      "\n"
     ]
    }
   ],
   "source": [
    "# Show the result\n",
    "# ordered_disciplinary_df.show(6, True)\n",
    "ordered_disciplinary_df.limit(10).show()\n",
    "# ordered_disciplinary_df.write.csv(\"s3://databricks-aws-spartans/football_data_analysis_spark_project/reports/order_disciplinary_reports.csv\")"
   ]
  },
  {
   "cell_type": "markdown",
   "metadata": {
    "application/vnd.databricks.v1+cell": {
     "cellMetadata": {
      "byteLimit": 2048000,
      "rowLimit": 10000
     },
     "inputWidgets": {},
     "nuid": "6e38d839-9fd0-4841-be02-fdbac6d86d3c",
     "showTitle": false,
     "tableResultSettingsMap": {},
     "title": ""
    }
   },
   "source": [
    "## Country-Specific Performance Insights\n",
    "### Scouting project insights\n",
    "By getting the country specific statistics the club can build a scouting project on those countries which are performing in the club levels as well as the international level\n"
   ]
  },
  {
   "cell_type": "code",
   "execution_count": 51,
   "metadata": {
    "application/vnd.databricks.v1+cell": {
     "cellMetadata": {
      "byteLimit": 2048000,
      "rowLimit": 10000
     },
     "inputWidgets": {},
     "nuid": "58d83912-ffd9-4347-a209-9241ad69b207",
     "showTitle": false,
     "tableResultSettingsMap": {},
     "title": ""
    }
   },
   "outputs": [],
   "source": [
    "# Join the fact table with the dimension table\n",
    "joined_df = players_performance_fact \\\n",
    "    .join(dim_countries, players_performance_fact[\"country id\"] == dim_countries[\"country id\"], \"inner\")\n",
    "\n",
    "joined_df = joined_df.filter(joined_df[\"country name\"].isNotNull())\n",
    "\n",
    "# Group by country and calculate performance metrics\n",
    "country_performance_df = joined_df.orderBy(\"country name\").groupBy(\"country name\").agg(\n",
    "    F.sum(\"goals scored\").alias(\"total goals\"),\n",
    "    F.sum(\"goals assist\").alias(\"total assists\")\n",
    ")"
   ]
  },
  {
   "cell_type": "code",
   "execution_count": 52,
   "metadata": {
    "application/vnd.databricks.v1+cell": {
     "cellMetadata": {
      "byteLimit": 2048000,
      "rowLimit": 10000
     },
     "inputWidgets": {},
     "nuid": "a02431b2-29e4-48a4-9aca-fb9f6dfc28f9",
     "showTitle": false,
     "tableResultSettingsMap": {},
     "title": ""
    }
   },
   "outputs": [
    {
     "name": "stdout",
     "output_type": "stream",
     "text": [
      "+------------+-----------+-------------+\n",
      "|country name|total goals|total assists|\n",
      "+------------+-----------+-------------+\n",
      "|   Argentina|       2852|         2494|\n",
      "|     Belgium|       2891|         2390|\n",
      "|      Brasil|       2868|         2340|\n",
      "|     England|       2936|         2410|\n",
      "|     Germany|       2976|         2403|\n",
      "|       Italy|       2938|         2481|\n",
      "|      Mexico|       2936|         2428|\n",
      "| Netherlands|       2884|         2462|\n",
      "|    Portugal|       2879|         2459|\n",
      "|       Spain|       2904|         2408|\n",
      "+------------+-----------+-------------+\n",
      "\n"
     ]
    }
   ],
   "source": [
    "# country_performance_df.show(5, True)\n",
    "country_performance_df.show()\n",
    "# country_performance_df.write.csv(\"s3://databricks-aws-spartans/football_data_analysis_spark_project/reports/country_performance_reports.csv\")"
   ]
  },
  {
   "cell_type": "markdown",
   "metadata": {
    "application/vnd.databricks.v1+cell": {
     "cellMetadata": {
      "byteLimit": 2048000,
      "rowLimit": 10000
     },
     "inputWidgets": {},
     "nuid": "d64fc604-e2d4-4d55-9e7e-fd567fc10c4d",
     "showTitle": false,
     "tableResultSettingsMap": {},
     "title": ""
    }
   },
   "source": [
    "##   find top goal scorers of a specific year\n",
    "### Sports website data \n",
    "Sports websites can use the datas to populate their information as much as possible as the old football datas are not that much available in the market."
   ]
  },
  {
   "cell_type": "code",
   "execution_count": 53,
   "metadata": {
    "application/vnd.databricks.v1+cell": {
     "cellMetadata": {
      "byteLimit": 2048000,
      "rowLimit": 10000
     },
     "inputWidgets": {},
     "nuid": "3635e106-29fe-4b6a-a553-8a2dca45b3de",
     "showTitle": false,
     "tableResultSettingsMap": {},
     "title": ""
    }
   },
   "outputs": [],
   "source": [
    "top_scorers_2010 = players_performance_fact.filter(players_performance_fact[\"year\"] == 2010) \\\n",
    "    .groupBy(\"player id\") \\\n",
    "    .agg(F.sum(\"goals scored\").alias(\"total goals\")) \\\n",
    "    .limit(10) \\\n",
    "    .join(dim_players, \"player id\") \\\n",
    "    .select(\"player id\",\"player name\", \"total goals\") \\\n",
    "    .orderBy(\"total goals\", ascending=False)"
   ]
  },
  {
   "cell_type": "code",
   "execution_count": 54,
   "metadata": {
    "application/vnd.databricks.v1+cell": {
     "cellMetadata": {
      "byteLimit": 2048000,
      "rowLimit": 10000
     },
     "inputWidgets": {},
     "nuid": "4eae0a28-ec15-4587-a2c3-9adb1bef9a4d",
     "showTitle": false,
     "tableResultSettingsMap": {},
     "title": ""
    }
   },
   "outputs": [
    {
     "name": "stdout",
     "output_type": "stream",
     "text": [
      "+---------+-----------------+-----------+\n",
      "|player id|      player name|total goals|\n",
      "+---------+-----------------+-----------+\n",
      "|       54|        Hernandez|        155|\n",
      "|        0|           Adrian|        138|\n",
      "|       29|      David Villa|        136|\n",
      "|       22|Cristiano Ronaldo|        132|\n",
      "|       65|         Joe Hart|        132|\n",
      "|       19|         Carvajal|        130|\n",
      "|      113|   Raphael Varane|        126|\n",
      "|       26|    Danny Welbeck|        125|\n",
      "|      130|     Thiago Silva|        121|\n",
      "|      112|          Ramires|        109|\n",
      "+---------+-----------------+-----------+\n",
      "\n"
     ]
    }
   ],
   "source": [
    "# top_scorers_2010.show(6, True)\n",
    "top_scorers_2010.show()\n",
    "# top_scorers_2010.write.csv(\"s3://databricks-aws-spartans/football_data_analysis_spark_project/reports/top_scorer_2010.csv\")"
   ]
  },
  {
   "cell_type": "markdown",
   "metadata": {
    "application/vnd.databricks.v1+cell": {
     "cellMetadata": {
      "byteLimit": 2048000,
      "rowLimit": 10000
     },
     "inputWidgets": {},
     "nuid": "e025e144-f906-4ee7-98ff-dfba64894490",
     "showTitle": false,
     "tableResultSettingsMap": {},
     "title": ""
    }
   },
   "source": [
    "## Find who has maximum appearances in International matches\n",
    "### Brand Ambassadorship & Endorsements\n",
    "#### Personal Brand: \n",
    "An experienced football player often has a strong personal brand, built over years of playing at a high level. This brand can be leveraged for endorsements, sponsorships, and partnerships with companies, making them valuable assets for brands looking to reach specific consumer segments.\n",
    "\n",
    "#### Influence and Reach: \n",
    "Players with a large following on social media platforms can be influencers for brands, helping them engage with fans and customers on a personal level.\n",
    "\n",
    "#### Product Partnerships: \n",
    "Football players often collaborate with companies for product endorsements in sectors like apparel, footwear, health supplements, or even technology."
   ]
  },
  {
   "cell_type": "code",
   "execution_count": 55,
   "metadata": {
    "application/vnd.databricks.v1+cell": {
     "cellMetadata": {
      "byteLimit": 2048000,
      "rowLimit": 10000
     },
     "inputWidgets": {},
     "nuid": "cfaaa4eb-a2e0-47aa-8cb3-52263f4234dd",
     "showTitle": false,
     "tableResultSettingsMap": {},
     "title": ""
    }
   },
   "outputs": [],
   "source": [
    "Player_with_max_appearances = players_performance_fact.filter(players_performance_fact[\"country id\"].isNotNull()) \\\n",
    "    .groupBy(\"player id\", \"country id\") \\\n",
    "    .sum(\"appearances\") \\\n",
    "    .orderBy(\"sum(appearances)\", ascending=False) \\\n",
    "    .limit(1) \\\n",
    "    .join(dim_players, \"player id\") \\\n",
    "    .join(dim_countries, \"country id\") \\\n",
    "    .select(\"player id\",\"player name\", \"sum(appearances)\", \"country name\")"
   ]
  },
  {
   "cell_type": "code",
   "execution_count": 56,
   "metadata": {
    "application/vnd.databricks.v1+cell": {
     "cellMetadata": {
      "byteLimit": 2048000,
      "rowLimit": 10000
     },
     "inputWidgets": {},
     "nuid": "97efadf6-f035-4603-8879-0217ed2ec7f4",
     "showTitle": false,
     "tableResultSettingsMap": {},
     "title": ""
    }
   },
   "outputs": [
    {
     "name": "stdout",
     "output_type": "stream",
     "text": [
      "+---------+-----------+----------------+------------+\n",
      "|player id|player name|sum(appearances)|country name|\n",
      "+---------+-----------+----------------+------------+\n",
      "|       95| Mesut Ozil|             288|     Belgium|\n",
      "+---------+-----------+----------------+------------+\n",
      "\n"
     ]
    }
   ],
   "source": [
    "# Player_with_max_appearances.show()\n",
    "Player_with_max_appearances.show()\n",
    "# Player_with_max_appearances.write.csv(\"s3://databricks-aws-spartans/football_data_analysis_spark_project/reports/player_max_international_app.csv\")"
   ]
  }
 ],
 "metadata": {
  "application/vnd.databricks.v1+notebook": {
   "dashboards": [
    {
     "elements": [
      {
       "dashboardResultIndex": null,
       "elementNUID": "2d22958f-4c17-4dfc-9b76-a237d011f820",
       "elementType": "command",
       "guid": "06463a2f-5010-4f5e-ba87-cda3f866596b",
       "options": null,
       "position": {
        "height": 6,
        "width": 16,
        "x": 0,
        "y": 0,
        "z": null
       },
       "resultIndex": null
      },
      {
       "dashboardResultIndex": null,
       "elementNUID": "920c903e-394d-41bd-b8a6-7c5eb77e27c8",
       "elementType": "command",
       "guid": "78078803-22cf-47ed-bde8-fd55dc8ba7ad",
       "options": null,
       "position": {
        "height": 6,
        "width": 17,
        "x": 0,
        "y": 12,
        "z": null
       },
       "resultIndex": null
      },
      {
       "dashboardResultIndex": null,
       "elementNUID": "74f43ac6-acaa-4464-88a0-05f9a389300e",
       "elementType": "command",
       "guid": "88498c0f-a392-4744-a2c9-75efe433e0c7",
       "options": null,
       "position": {
        "height": 7,
        "width": 17,
        "x": 0,
        "y": 18,
        "z": null
       },
       "resultIndex": null
      },
      {
       "dashboardResultIndex": null,
       "elementNUID": "3c8e7167-c4ea-47a1-9a85-f5bc67555500",
       "elementType": "command",
       "guid": "93a1d75d-d122-4aaa-a691-cc96c4cefdb8",
       "options": null,
       "position": {
        "height": 6,
        "width": 7,
        "x": 12,
        "y": 6,
        "z": null
       },
       "resultIndex": null
      },
      {
       "dashboardResultIndex": null,
       "elementNUID": "fb1e8a5b-814e-4e19-bc1d-65de71d9c1cf",
       "elementType": "command",
       "guid": "a159df88-86e0-4365-b31b-b568d00fbe9f",
       "options": null,
       "position": {
        "height": 6,
        "width": 8,
        "x": 16,
        "y": 0,
        "z": null
       },
       "resultIndex": null
      },
      {
       "dashboardResultIndex": null,
       "elementNUID": "90c7614b-6bd2-406a-8df5-7b6e2492e2de",
       "elementType": "command",
       "guid": "e7f8af2f-d15d-4e0b-bb9a-28290823cebe",
       "options": null,
       "position": {
        "height": 8,
        "width": 21,
        "x": 0,
        "y": 25,
        "z": null
       },
       "resultIndex": null
      },
      {
       "dashboardResultIndex": null,
       "elementNUID": "2937d375-0952-4e15-ad71-686ea468cb19",
       "elementType": "command",
       "guid": "feec80d7-1c30-48fd-8c6c-ed157edf7479",
       "options": null,
       "position": {
        "height": 6,
        "width": 12,
        "x": 0,
        "y": 6,
        "z": null
       },
       "resultIndex": null
      }
     ],
     "globalVars": {},
     "guid": "",
     "layoutOption": {
      "grid": true,
      "stack": true
     },
     "nuid": "a18f5d75-3263-4ad3-9ffc-0bfa05bc70e1",
     "origId": 104291666794022,
     "title": "football_data_analysis_dashboard",
     "version": "DashboardViewV1",
     "width": 1440
    }
   ],
   "environmentMetadata": null,
   "language": "python",
   "notebookMetadata": {
    "pythonIndentUnit": 2
   },
   "notebookName": "football_data_analysis",
   "widgets": {}
  },
  "kernelspec": {
   "display_name": "Python 3 (ipykernel)",
   "language": "python",
   "name": "python3"
  },
  "language_info": {
   "codemirror_mode": {
    "name": "ipython",
    "version": 3
   },
   "file_extension": ".py",
   "mimetype": "text/x-python",
   "name": "python",
   "nbconvert_exporter": "python",
   "pygments_lexer": "ipython3",
   "version": "3.9.11"
  }
 },
 "nbformat": 4,
 "nbformat_minor": 4
}
